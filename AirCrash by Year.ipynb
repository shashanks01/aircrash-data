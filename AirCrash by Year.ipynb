{
 "cells": [
  {
   "cell_type": "code",
   "execution_count": 176,
   "metadata": {},
   "outputs": [],
   "source": [
    "from bs4 import BeautifulSoup\n",
    "import requests\n",
    "import os.path"
   ]
  },
  {
   "cell_type": "code",
   "execution_count": 177,
   "metadata": {},
   "outputs": [],
   "source": [
    "def get_data(url):\n",
    "    page = requests.get(url)\n",
    "    soup = BeautifulSoup(page.content, 'html.parser')\n",
    "    with open(completePath, 'w') as f:\n",
    "        header = \",\".join(['Date', 'Location', 'Aircraft Type/ Registration', 'Fatalities'])\n",
    "        f.write(header)\n",
    "        f.write(\"\\n\")\n",
    "        all_data = []\n",
    "        for tr in soup.findAll('tr')[1:]:\n",
    "            row = []\n",
    "            tds = tr.findAll('td')\n",
    "            for txt in tds:\n",
    "                line = txt.text.replace('\\n', \"\").replace(\",\", \"-\")\n",
    "                row.append(line)\n",
    "            f.write(\",\".join(row))\n",
    "            f.write(\"\\n\")"
   ]
  },
  {
   "cell_type": "code",
   "execution_count": null,
   "metadata": {},
   "outputs": [],
   "source": [
    "save_path = 'E:\\Others\\stories\\data'\n",
    "for year in range(1920,2019):\n",
    "    url = 'http://planecrashinfo.com/'+str(year)+'/'+str(year)+'.htm'\n",
    "    completePath = os.path.join(save_path,'Crash-'+ url[-8:-4]+\".csv\")\n",
    "    get_data(url)"
   ]
  }
 ],
 "metadata": {
  "kernelspec": {
   "display_name": "Python 3",
   "language": "python",
   "name": "python3"
  },
  "language_info": {
   "codemirror_mode": {
    "name": "ipython",
    "version": 3
   },
   "file_extension": ".py",
   "mimetype": "text/x-python",
   "name": "python",
   "nbconvert_exporter": "python",
   "pygments_lexer": "ipython3",
   "version": "3.6.5"
  }
 },
 "nbformat": 4,
 "nbformat_minor": 2
}
