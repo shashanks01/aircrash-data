{
 "cells": [
  {
   "cell_type": "code",
   "execution_count": 1,
   "metadata": {},
   "outputs": [],
   "source": [
    "import pandas as pd\n",
    "import re"
   ]
  },
  {
   "cell_type": "code",
   "execution_count": 2,
   "metadata": {},
   "outputs": [],
   "source": [
    "df = pd.read_csv('Alldata/All-Crash.csv', encoding='latin-1')"
   ]
  },
  {
   "cell_type": "code",
   "execution_count": 3,
   "metadata": {},
   "outputs": [
    {
     "data": {
      "text/html": [
       "<div>\n",
       "<style scoped>\n",
       "    .dataframe tbody tr th:only-of-type {\n",
       "        vertical-align: middle;\n",
       "    }\n",
       "\n",
       "    .dataframe tbody tr th {\n",
       "        vertical-align: top;\n",
       "    }\n",
       "\n",
       "    .dataframe thead th {\n",
       "        text-align: right;\n",
       "    }\n",
       "</style>\n",
       "<table border=\"1\" class=\"dataframe\">\n",
       "  <thead>\n",
       "    <tr style=\"text-align: right;\">\n",
       "      <th></th>\n",
       "      <th>Date</th>\n",
       "      <th>Location</th>\n",
       "      <th>Flight</th>\n",
       "      <th>Fatalities</th>\n",
       "    </tr>\n",
       "  </thead>\n",
       "  <tbody>\n",
       "    <tr>\n",
       "      <th>0</th>\n",
       "      <td>9/17/1908</td>\n",
       "      <td>Fort Myer- VirginiaMilitary - U.S. Army</td>\n",
       "      <td>Wright Flyer III?</td>\n",
       "      <td>1/2(0)</td>\n",
       "    </tr>\n",
       "    <tr>\n",
       "      <th>1</th>\n",
       "      <td>9/7/1909</td>\n",
       "      <td>Juvisy-sur-Orge- France?</td>\n",
       "      <td>Wright ByplaneSC1</td>\n",
       "      <td>1/1(0)</td>\n",
       "    </tr>\n",
       "    <tr>\n",
       "      <th>2</th>\n",
       "      <td>7/12/1912</td>\n",
       "      <td>Atlantic City- New JerseyMilitary - U.S. Navy</td>\n",
       "      <td>Dirigible?</td>\n",
       "      <td>5/5(0)</td>\n",
       "    </tr>\n",
       "    <tr>\n",
       "      <th>3</th>\n",
       "      <td>8/6/1913</td>\n",
       "      <td>Victoria- British Columbia- CanadaPrivate</td>\n",
       "      <td>Curtiss seaplane?</td>\n",
       "      <td>1/1(0)</td>\n",
       "    </tr>\n",
       "    <tr>\n",
       "      <th>4</th>\n",
       "      <td>9/9/1913</td>\n",
       "      <td>Over the North SeaMilitary - German Navy</td>\n",
       "      <td>Zeppelin L-1 (airship)?</td>\n",
       "      <td>14/20(0)</td>\n",
       "    </tr>\n",
       "  </tbody>\n",
       "</table>\n",
       "</div>"
      ],
      "text/plain": [
       "        Date                                       Location  \\\n",
       "0  9/17/1908        Fort Myer- VirginiaMilitary - U.S. Army   \n",
       "1   9/7/1909                       Juvisy-sur-Orge- France?   \n",
       "2  7/12/1912  Atlantic City- New JerseyMilitary - U.S. Navy   \n",
       "3   8/6/1913      Victoria- British Columbia- CanadaPrivate   \n",
       "4   9/9/1913       Over the North SeaMilitary - German Navy   \n",
       "\n",
       "                    Flight Fatalities  \n",
       "0        Wright Flyer III?     1/2(0)  \n",
       "1        Wright ByplaneSC1     1/1(0)  \n",
       "2               Dirigible?     5/5(0)  \n",
       "3        Curtiss seaplane?     1/1(0)  \n",
       "4  Zeppelin L-1 (airship)?   14/20(0)  "
      ]
     },
     "execution_count": 3,
     "metadata": {},
     "output_type": "execute_result"
    }
   ],
   "source": [
    "df.head()"
   ]
  },
  {
   "cell_type": "code",
   "execution_count": 4,
   "metadata": {},
   "outputs": [],
   "source": [
    "df['Date'] = pd.to_datetime(df['Date'], errors ='coerce')"
   ]
  },
  {
   "cell_type": "code",
   "execution_count": 5,
   "metadata": {},
   "outputs": [],
   "source": [
    "df['Year'], df['Month'], df['Day'] = df['Date'].dt.year.dropna(), df['Date'].dt.month, df['Date'].dt.day"
   ]
  },
  {
   "cell_type": "code",
   "execution_count": 6,
   "metadata": {},
   "outputs": [],
   "source": [
    "df['Casualties'] = df['Fatalities'].apply(lambda x: x.split('/')[0])"
   ]
  },
  {
   "cell_type": "code",
   "execution_count": 7,
   "metadata": {},
   "outputs": [],
   "source": [
    "pattern = re.compile(r'\\/(\\d+)')\n",
    "def get_aboard(x):\n",
    "    match = pattern.search(x)\n",
    "    if match:\n",
    "        return match.group(1)\n",
    "    return 'NaN'"
   ]
  },
  {
   "cell_type": "code",
   "execution_count": 8,
   "metadata": {},
   "outputs": [],
   "source": [
    "#to get people on board\n",
    "df['Aboard'] = df['Fatalities'].apply(lambda x:  get_aboard(str(x)))"
   ]
  },
  {
   "cell_type": "code",
   "execution_count": 9,
   "metadata": {},
   "outputs": [],
   "source": [
    "def casualty_percentage(row):\n",
    "    if row['Aboard'] == 'NaN' or row['Aboard'] == '0' or row['Casualties'] == '?':\n",
    "        return '-'\n",
    "    else:\n",
    "        return (int(row['Casualties'])/int(row['Aboard']))*100"
   ]
  },
  {
   "cell_type": "code",
   "execution_count": 10,
   "metadata": {},
   "outputs": [],
   "source": [
    "df['% Casualty'] = df.apply(casualty_percentage, axis=1)"
   ]
  },
  {
   "cell_type": "code",
   "execution_count": 11,
   "metadata": {},
   "outputs": [],
   "source": [
    "def get_decade(year):\n",
    "    if year < 1920:\n",
    "        return 1920\n",
    "    year = str(year)\n",
    "    dec = year[0:3] + '0'\n",
    "    return int(dec)"
   ]
  },
  {
   "cell_type": "code",
   "execution_count": 12,
   "metadata": {},
   "outputs": [],
   "source": [
    "df['Decade'] =  df['Year'].apply(lambda x: get_decade(x))"
   ]
  },
  {
   "cell_type": "code",
   "execution_count": 13,
   "metadata": {},
   "outputs": [],
   "source": [
    "df['% Casualty'] = pd.to_numeric(df['% Casualty'], errors='coerce')"
   ]
  },
  {
   "cell_type": "code",
   "execution_count": 14,
   "metadata": {},
   "outputs": [
    {
     "data": {
      "text/plain": [
       "1946    264\n",
       "1947    246\n",
       "1948    228\n",
       "1951    222\n",
       "1945    219\n",
       "1950    207\n",
       "1953    207\n",
       "1949    201\n",
       "1952    195\n",
       "1954    186\n",
       "Name: Year, dtype: int64"
      ]
     },
     "execution_count": 14,
     "metadata": {},
     "output_type": "execute_result"
    }
   ],
   "source": [
    "# Max Aircrash by years\n",
    "df['Year'].value_counts().head(10)"
   ]
  },
  {
   "cell_type": "code",
   "execution_count": 15,
   "metadata": {},
   "outputs": [
    {
     "data": {
      "text/plain": [
       "12    967\n",
       "1     878\n",
       "11    853\n",
       "8     845\n",
       "10    826\n",
       "9     795\n",
       "3     787\n",
       "7     741\n",
       "2     688\n",
       "6     670\n",
       "4     650\n",
       "5     648\n",
       "Name: Month, dtype: int64"
      ]
     },
     "execution_count": 15,
     "metadata": {},
     "output_type": "execute_result"
    }
   ],
   "source": [
    "#By Month\n",
    "df['Month'].value_counts()"
   ]
  },
  {
   "cell_type": "code",
   "execution_count": 16,
   "metadata": {},
   "outputs": [
    {
     "data": {
      "text/plain": [
       "1940    1689\n",
       "1950    1637\n",
       "1960    1111\n",
       "1930    1032\n",
       "1970     860\n",
       "1990     775\n",
       "1980     721\n",
       "1920     639\n",
       "2000     618\n",
       "2010     266\n",
       "Name: Decade, dtype: int64"
      ]
     },
     "execution_count": 16,
     "metadata": {},
     "output_type": "execute_result"
    }
   ],
   "source": [
    "df['Decade'].value_counts()"
   ]
  },
  {
   "cell_type": "code",
   "execution_count": 17,
   "metadata": {},
   "outputs": [
    {
     "data": {
      "text/plain": [
       "Decade\n",
       "1920    89.849624\n",
       "1930    85.399573\n",
       "1940    85.304085\n",
       "1950    83.407319\n",
       "1960    84.247202\n",
       "1970    83.468645\n",
       "1980    82.385921\n",
       "1990    80.413316\n",
       "2000    81.565931\n",
       "2010    83.380435\n",
       "Name: % Casualty, dtype: float64"
      ]
     },
     "execution_count": 17,
     "metadata": {},
     "output_type": "execute_result"
    }
   ],
   "source": [
    "df.groupby('Decade')['% Casualty'].mean()"
   ]
  },
  {
   "cell_type": "code",
   "execution_count": 18,
   "metadata": {},
   "outputs": [],
   "source": [
    "df.to_csv('data.csv')"
   ]
  },
  {
   "cell_type": "code",
   "execution_count": null,
   "metadata": {},
   "outputs": [],
   "source": []
  }
 ],
 "metadata": {
  "kernelspec": {
   "display_name": "Python 3",
   "language": "python",
   "name": "python3"
  },
  "language_info": {
   "codemirror_mode": {
    "name": "ipython",
    "version": 3
   },
   "file_extension": ".py",
   "mimetype": "text/x-python",
   "name": "python",
   "nbconvert_exporter": "python",
   "pygments_lexer": "ipython3",
   "version": "3.6.4"
  }
 },
 "nbformat": 4,
 "nbformat_minor": 2
}
